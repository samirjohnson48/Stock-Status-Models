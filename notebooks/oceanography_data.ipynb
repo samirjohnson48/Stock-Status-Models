{
 "cells": [
  {
   "cell_type": "code",
   "execution_count": 1,
   "metadata": {},
   "outputs": [
    {
     "name": "stderr",
     "output_type": "stream",
     "text": [
      "/Library/Frameworks/Python.framework/Versions/3.12/lib/python3.12/site-packages/tqdm/auto.py:21: TqdmWarning: IProgress not found. Please update jupyter and ipywidgets. See https://ipywidgets.readthedocs.io/en/stable/user_install.html\n",
      "  from .autonotebook import tqdm as notebook_tqdm\n"
     ]
    }
   ],
   "source": [
    "import copernicusmarine\n",
    "import xarray\n",
    "import pandas as pd\n",
    "import pickle\n",
    "import numpy as np"
   ]
  },
  {
   "cell_type": "code",
   "execution_count": 40,
   "metadata": {},
   "outputs": [
    {
     "name": "stderr",
     "output_type": "stream",
     "text": [
      "INFO - 2024-12-09T09:19:04Z - Dataset version was not specified, the latest one was selected: \"202211\"\n",
      "INFO - 2024-12-09T09:19:04Z - Dataset part was not specified, the first one was selected: \"default\"\n",
      "INFO - 2024-12-09T09:19:05Z - Service was not specified, the default one was selected: \"arco-geo-series\"\n"
     ]
    },
    {
     "name": "stdout",
     "output_type": "stream",
     "text": [
      "<bound method Dataset.info of <xarray.Dataset> Size: 2TB\n",
      "Dimensions:                   (time: 2130, latitude: 3600, longitude: 7200,\n",
      "                               bnds: 2)\n",
      "Coordinates:\n",
      "    lat_bnds                  (latitude, bnds) float32 29kB ...\n",
      "  * latitude                  (latitude) float32 14kB -89.97 -89.93 ... 89.97\n",
      "    lon_bnds                  (longitude, bnds) float32 58kB ...\n",
      "  * longitude                 (longitude) float32 29kB -180.0 -179.9 ... 180.0\n",
      "  * time                      (time) datetime64[ns] 17kB 2017-01-01 ... 2022-...\n",
      "    time_bnds                 (bnds) datetime64[ns] 16B ...\n",
      "Dimensions without coordinates: bnds\n",
      "Data variables:\n",
      "    analysed_sst              (time, latitude, longitude) float64 442GB ...\n",
      "    analysed_sst_uncertainty  (time, latitude, longitude) float64 442GB ...\n",
      "    mask                      (time, latitude, longitude) float32 221GB ...\n",
      "    sea_ice_fraction          (time, latitude, longitude) float64 442GB ...\n",
      "Attributes: (12/60)\n",
      "    Conventions:                     CF-1.5, Unidata Observation Dataset v1.0\n",
      "    Metadata_Conventions:            Unidata Dataset Discovery v1.0\n",
      "    acknowledgment:                  Funded by the Copernicus Climate Change ...\n",
      "    cdm_data_type:                   grid\n",
      "    comment:                         These data were produced by the Met Offi...\n",
      "    contact:                         http://copernicus-support.ecmwf.int\n",
      "    ...                              ...\n",
      "    time_coverage_resolution:        P1D\n",
      "    time_coverage_start:             20170101T000000Z\n",
      "    title:                           C3S SST L4 product\n",
      "    tracking_id:                     7fdf2639-26e5-4d4f-a60e-0bcfc9744204\n",
      "    uuid:                            7fdf2639-26e5-4d4f-a60e-0bcfc9744204\n",
      "    westernmost_longitude:           -180.0>\n"
     ]
    }
   ],
   "source": [
    "DS = copernicusmarine.open_dataset(dataset_id=\"C3S-GLO-SST-L4-REP-OBS-SST\", username=\"sjohnson3\", password=\"Soccerisawsome88**\")\n",
    "print(DS.info)\n"
   ]
  },
  {
   "cell_type": "code",
   "execution_count": 43,
   "metadata": {},
   "outputs": [],
   "source": [
    "subset = DS[[\"analysed_sst\"]].sel(latitude=slice(5,35), longitude=slice(-180,-120), time=slice(\"2021-01-01\", \"2021-12-31\"))\n",
    "df = subset[\"analysed_sst\"].to_dataframe().dropna()"
   ]
  },
  {
   "cell_type": "code",
   "execution_count": 45,
   "metadata": {},
   "outputs": [
    {
     "name": "stdout",
     "output_type": "stream",
     "text": [
      "latitude   longitude  \n",
      "5.025000   -179.975006    301.667144\n",
      "           -179.925003    301.666596\n",
      "           -179.875000    301.661254\n",
      "           -179.824997    301.654843\n",
      "           -179.774994    301.648021\n",
      "                             ...    \n",
      "34.974998  -120.875000    286.063994\n",
      "           -120.824997    285.916624\n",
      "           -120.775002    285.846706\n",
      "           -120.724998    285.816816\n",
      "           -120.675003    285.879774\n",
      "Name: analysed_sst, Length: 719420, dtype: float64\n"
     ]
    }
   ],
   "source": [
    "averaged_sst = df[\"analysed_sst\"].groupby(level=[\"latitude\", \"longitude\"]).mean()\n",
    "print(averaged_sst)"
   ]
  },
  {
   "cell_type": "code",
   "execution_count": 47,
   "metadata": {},
   "outputs": [
    {
     "name": "stdout",
     "output_type": "stream",
     "text": [
      "297.54487780699736\n",
      "8.917391980058117\n"
     ]
    }
   ],
   "source": [
    "print(averaged_sst.mean())\n",
    "print(averaged_sst.var())\n"
   ]
  },
  {
   "cell_type": "code",
   "execution_count": 48,
   "metadata": {},
   "outputs": [],
   "source": [
    "subset2 = DS[[\"analysed_sst\"]].sel(latitude=slice(5,10), longitude=slice(-125,-120), time=slice(\"2021-01-01\", \"2021-12-31\"))\n",
    "df2 = subset[\"analysed_sst\"].to_dataframe().dropna()"
   ]
  },
  {
   "cell_type": "code",
   "execution_count": 50,
   "metadata": {},
   "outputs": [
    {
     "data": {
      "text/plain": [
       "analysed_sst    297.544878\n",
       "dtype: float64"
      ]
     },
     "execution_count": 50,
     "metadata": {},
     "output_type": "execute_result"
    }
   ],
   "source": [
    "pd.concat([df, df2]).mean()"
   ]
  },
  {
   "cell_type": "code",
   "execution_count": 69,
   "metadata": {},
   "outputs": [
    {
     "name": "stderr",
     "output_type": "stream",
     "text": [
      "INFO - 2024-12-09T10:33:49Z - Dataset version was not specified, the latest one was selected: \"202311\"\n",
      "INFO - 2024-12-09T10:33:49Z - Dataset part was not specified, the first one was selected: \"default\"\n",
      "INFO - 2024-12-09T10:33:50Z - Service was not specified, the default one was selected: \"arco-geo-series\"\n"
     ]
    }
   ],
   "source": [
    "dataset = copernicusmarine.open_dataset(dataset_id=\"cmems_mod_glo_phy-all_my_0.25deg_P1M-m\", username=\"sjohnson3\", password=\"Soccerisawsome88**\")"
   ]
  },
  {
   "cell_type": "code",
   "execution_count": 74,
   "metadata": {},
   "outputs": [
    {
     "data": {
      "text/plain": [
       "Data variables:\n",
       "    mlotst_cglo   (time, latitude, longitude) float32 1GB ...\n",
       "    mlotst_glor   (time, latitude, longitude) float32 1GB ...\n",
       "    mlotst_oras   (time, latitude, longitude) float32 1GB ...\n",
       "    siconc_cglo   (time, latitude, longitude) float32 1GB ...\n",
       "    siconc_glor   (time, latitude, longitude) float32 1GB ...\n",
       "    siconc_oras   (time, latitude, longitude) float32 1GB ...\n",
       "    sithick_cglo  (time, latitude, longitude) float32 1GB ...\n",
       "    sithick_glor  (time, latitude, longitude) float32 1GB ...\n",
       "    sithick_oras  (time, latitude, longitude) float32 1GB ...\n",
       "    so_cglo       (time, depth, latitude, longitude) float32 109GB ...\n",
       "    so_glor       (time, depth, latitude, longitude) float32 109GB ...\n",
       "    so_oras       (time, depth, latitude, longitude) float32 109GB ...\n",
       "    thetao_cglo   (time, depth, latitude, longitude) float32 109GB ...\n",
       "    thetao_glor   (time, depth, latitude, longitude) float32 109GB ...\n",
       "    thetao_oras   (time, depth, latitude, longitude) float32 109GB ...\n",
       "    uo_cglo       (time, depth, latitude, longitude) float32 109GB ...\n",
       "    uo_glor       (time, depth, latitude, longitude) float32 109GB ...\n",
       "    uo_oras       (time, depth, latitude, longitude) float32 109GB ...\n",
       "    vo_cglo       (time, depth, latitude, longitude) float32 109GB ...\n",
       "    vo_glor       (time, depth, latitude, longitude) float32 109GB ...\n",
       "    vo_oras       (time, depth, latitude, longitude) float32 109GB ...\n",
       "    zos_cglo      (time, latitude, longitude) float32 1GB ...\n",
       "    zos_glor      (time, latitude, longitude) float32 1GB ...\n",
       "    zos_oras      (time, latitude, longitude) float32 1GB ..."
      ]
     },
     "execution_count": 74,
     "metadata": {},
     "output_type": "execute_result"
    }
   ],
   "source": [
    "dataset.info\n",
    "dataset.data_vars"
   ]
  },
  {
   "cell_type": "code",
   "execution_count": 75,
   "metadata": {},
   "outputs": [],
   "source": [
    "subset3 = dataset[[\"thetao_cglo\"]].isel(depth=0).sel(latitude=slice(5,10), longitude=slice(-125,-120), time=slice(\"2004-01-01\", \"2005-01-01\"))"
   ]
  },
  {
   "cell_type": "code",
   "execution_count": 76,
   "metadata": {},
   "outputs": [
    {
     "name": "stdout",
     "output_type": "stream",
     "text": [
      "                                 depth  thetao_cglo\n",
      "time       latitude longitude                      \n",
      "2004-01-01 5.0      -125.00    0.50576    27.127182\n",
      "                    -124.75    0.50576    27.082748\n",
      "                    -124.50    0.50576    27.093428\n",
      "                    -124.25    0.50576    27.137844\n",
      "                    -124.00    0.50576    27.169683\n",
      "...                                ...          ...\n",
      "2005-01-01 10.0     -121.00    0.50576    27.275768\n",
      "                    -120.75    0.50576    27.266563\n",
      "                    -120.50    0.50576    27.258965\n",
      "                    -120.25    0.50576    27.262264\n",
      "                    -120.00    0.50576    27.269365\n",
      "\n",
      "[5733 rows x 2 columns]\n"
     ]
    }
   ],
   "source": [
    "df3 = subset3[\"thetao_cglo\"].to_dataframe().dropna()\n",
    "print(df3)"
   ]
  },
  {
   "cell_type": "code",
   "execution_count": 79,
   "metadata": {},
   "outputs": [],
   "source": [
    "subset4 = dataset[[\"thetao_cglo\"]].isel(depth=0).sel(latitude=slice(10,15), longitude=slice(-125,-120), time=slice(\"2004-01-01\", \"2005-01-01\"))"
   ]
  },
  {
   "cell_type": "code",
   "execution_count": 80,
   "metadata": {},
   "outputs": [
    {
     "data": {
      "text/html": [
       "<div>\n",
       "<style scoped>\n",
       "    .dataframe tbody tr th:only-of-type {\n",
       "        vertical-align: middle;\n",
       "    }\n",
       "\n",
       "    .dataframe tbody tr th {\n",
       "        vertical-align: top;\n",
       "    }\n",
       "\n",
       "    .dataframe thead th {\n",
       "        text-align: right;\n",
       "    }\n",
       "</style>\n",
       "<table border=\"1\" class=\"dataframe\">\n",
       "  <thead>\n",
       "    <tr style=\"text-align: right;\">\n",
       "      <th></th>\n",
       "      <th></th>\n",
       "      <th></th>\n",
       "      <th>depth</th>\n",
       "      <th>thetao_cglo</th>\n",
       "    </tr>\n",
       "    <tr>\n",
       "      <th>time</th>\n",
       "      <th>latitude</th>\n",
       "      <th>longitude</th>\n",
       "      <th></th>\n",
       "      <th></th>\n",
       "    </tr>\n",
       "  </thead>\n",
       "  <tbody>\n",
       "    <tr>\n",
       "      <th rowspan=\"5\" valign=\"top\">2004-01-01</th>\n",
       "      <th rowspan=\"5\" valign=\"top\">5.0</th>\n",
       "      <th>-125.00</th>\n",
       "      <td>0.50576</td>\n",
       "      <td>27.127182</td>\n",
       "    </tr>\n",
       "    <tr>\n",
       "      <th>-124.75</th>\n",
       "      <td>0.50576</td>\n",
       "      <td>27.082748</td>\n",
       "    </tr>\n",
       "    <tr>\n",
       "      <th>-124.50</th>\n",
       "      <td>0.50576</td>\n",
       "      <td>27.093428</td>\n",
       "    </tr>\n",
       "    <tr>\n",
       "      <th>-124.25</th>\n",
       "      <td>0.50576</td>\n",
       "      <td>27.137844</td>\n",
       "    </tr>\n",
       "    <tr>\n",
       "      <th>-124.00</th>\n",
       "      <td>0.50576</td>\n",
       "      <td>27.169683</td>\n",
       "    </tr>\n",
       "    <tr>\n",
       "      <th>...</th>\n",
       "      <th>...</th>\n",
       "      <th>...</th>\n",
       "      <td>...</td>\n",
       "      <td>...</td>\n",
       "    </tr>\n",
       "    <tr>\n",
       "      <th rowspan=\"5\" valign=\"top\">2005-01-01</th>\n",
       "      <th rowspan=\"5\" valign=\"top\">15.0</th>\n",
       "      <th>-121.00</th>\n",
       "      <td>0.50576</td>\n",
       "      <td>25.232134</td>\n",
       "    </tr>\n",
       "    <tr>\n",
       "      <th>-120.75</th>\n",
       "      <td>0.50576</td>\n",
       "      <td>25.391127</td>\n",
       "    </tr>\n",
       "    <tr>\n",
       "      <th>-120.50</th>\n",
       "      <td>0.50576</td>\n",
       "      <td>25.540783</td>\n",
       "    </tr>\n",
       "    <tr>\n",
       "      <th>-120.25</th>\n",
       "      <td>0.50576</td>\n",
       "      <td>25.673635</td>\n",
       "    </tr>\n",
       "    <tr>\n",
       "      <th>-120.00</th>\n",
       "      <td>0.50576</td>\n",
       "      <td>25.801678</td>\n",
       "    </tr>\n",
       "  </tbody>\n",
       "</table>\n",
       "<p>11466 rows × 2 columns</p>\n",
       "</div>"
      ],
      "text/plain": [
       "                                 depth  thetao_cglo\n",
       "time       latitude longitude                      \n",
       "2004-01-01 5.0      -125.00    0.50576    27.127182\n",
       "                    -124.75    0.50576    27.082748\n",
       "                    -124.50    0.50576    27.093428\n",
       "                    -124.25    0.50576    27.137844\n",
       "                    -124.00    0.50576    27.169683\n",
       "...                                ...          ...\n",
       "2005-01-01 15.0     -121.00    0.50576    25.232134\n",
       "                    -120.75    0.50576    25.391127\n",
       "                    -120.50    0.50576    25.540783\n",
       "                    -120.25    0.50576    25.673635\n",
       "                    -120.00    0.50576    25.801678\n",
       "\n",
       "[11466 rows x 2 columns]"
      ]
     },
     "execution_count": 80,
     "metadata": {},
     "output_type": "execute_result"
    }
   ],
   "source": [
    "df4 = subset4[\"thetao_cglo\"].to_dataframe().dropna()\n",
    "pd.concat([df3, df4])"
   ]
  },
  {
   "cell_type": "code",
   "execution_count": 122,
   "metadata": {},
   "outputs": [],
   "source": [
    "area_coords = {\n",
    "    21: {\"lat\": [slice(35, 78)], \"long\": [slice(-80, -42)]},\n",
    "    27: {\n",
    "        \"lat\": [slice(36, 90), slice(43, 90), slice(49, 90)],\n",
    "        \"long\": [slice(-42, -6), slice(-6, 0), slice(0, 68)],\n",
    "    },\n",
    "    31: {\n",
    "        \"lat\": [slice(17, 35), slice(15, 17), slice(8.4, 15), slice(5, 8.4)],\n",
    "        \"long\": [slice(-98, -40), slice(-90, -40), slice(-84, -40), slice(-63, -40)],\n",
    "    },\n",
    "    34: {\"lat\": [slice(-6, 36), slice(-6, 8)], \"long\": [slice(-20, -5), slice(-5, 14)]},\n",
    "    37: {\"lat\": [slice(34, 42), slice(30, 47)], \"long\": [slice(-5, 3), slice(3, 42)]},\n",
    "    41: {\n",
    "        \"lat\": [slice(-60, -34), slice(-50, 5)],\n",
    "        \"long\": [slice(-67, -54), slice(-54, -20)],\n",
    "    },\n",
    "    47: {\"lat\": [slice(-40, -6)], \"long\": [slice(5, 30)]},\n",
    "    51: {\"lat\": [slice(-45, 30)], \"long\": [slice(30, 77)]},\n",
    "    57: {\n",
    "        \"lat\": [slice(-55, 24), slice(-55, -1), slice(-55, -8), slice(-55, -30)],\n",
    "        \"long\": [slice(77, 100), slice(100, 105), slice(105, 129), slice(129, 150)],\n",
    "    },\n",
    "    61: {\n",
    "        \"lat\": [slice(15, 23), slice(20, 65)],\n",
    "        \"long\": [slice(105, 115), slice(115, 180)],\n",
    "    },\n",
    "    67: {\"lat\": [slice(40, 66)], \"long\": [slice(-175, -123)]},\n",
    "    71: {\n",
    "        \"lat\": [slice(-8, 15), slice(15, 20), slice(-25, -8)],\n",
    "        \"long\": [slice(99, 129), slice(115, 175), slice(129, 175)],\n",
    "    },\n",
    "    77: {\n",
    "        \"lat\": [slice(-25, 40), slice(5, 40), slice(5, 15), slice(5, 8)],\n",
    "        \"long\": [slice(-175, -120), slice(-120, -98), slice(-98, -84), slice(-84, -78)],\n",
    "    },\n",
    "    81: {\n",
    "        \"lat\": [slice(-60, -25), slice(-60, -25)],\n",
    "        \"long\": [slice(150, 180), slice(-180, -120)],\n",
    "    },\n",
    "    87: {\n",
    "        \"lat\": [slice(-60, -55), slice(-55, 5)],\n",
    "        \"long\": [slice(-120, -67), slice(-120, -69)],\n",
    "    },\n",
    "}\n",
    "\n",
    "years = {\n",
    "    2004: slice(\"2004-01-01\", \"2004-12-31\"),\n",
    "    # 2006: slice(\"2006-01-01\", \"2006-12-31\"),\n",
    "    # 2008: slice(\"2008-01-01\", \"2008-12-31\"),\n",
    "    # 2009: slice(\"2009-01-01\", \"2009-12-31\"),\n",
    "    # 2011: slice(\"2011-01-01\", \"2011-12-31\"),\n",
    "    # 2013: slice(\"2013-01-01\", \"2013-12-31\"),\n",
    "    # 2015: slice(\"2015-01-01\", \"2015-12-31\"),\n",
    "    # 2017: slice(\"2017-01-01\", \"2017-12-31\"),\n",
    "    # 2019: slice(\"2019-01-01\", \"2019-12-31\"),\n",
    "    # 2021: slice(\"2021-01-01\", \"2021-12-31\"),\n",
    "}\n",
    "\n",
    "data_template = {year: pd.DataFrame() for year in years.keys()}"
   ]
  },
  {
   "cell_type": "code",
   "execution_count": 96,
   "metadata": {},
   "outputs": [],
   "source": [
    "def build_data(dataset, pickle_file, variable, depth=0):\n",
    "    print(f\"Loading data for {variable}\")\n",
    "\n",
    "    with open(pickle_file, \"rb\") as file:\n",
    "        data = pickle.load(file)\n",
    "\n",
    "    for key in area_coords.keys():\n",
    "        data[key][variable] = data_template\n",
    "\n",
    "    for area, coords in area_coords.items():\n",
    "        for year, year_slice in years.items():\n",
    "            for lat, long in zip(coords[\"lat\"], coords[\"long\"]):\n",
    "                if depth is not None:\n",
    "                    subset = (\n",
    "                        dataset[[variable]]\n",
    "                        .isel(depth=depth)\n",
    "                        .sel(latitude=lat, longitude=long, time=year_slice)\n",
    "                    )\n",
    "                else:\n",
    "                    subset = dataset[[variable]].sel(\n",
    "                        latitude=lat, longitude=long, time=year_slice\n",
    "                    )\n",
    "                data[area][variable][year] = pd.concat(\n",
    "                    [\n",
    "                        data[area][variable][year],\n",
    "                        subset[variable].to_dataframe().dropna(),\n",
    "                    ]\n",
    "                )\n",
    "            print(f\"Completed year {year} for area {area}\")\n",
    "\n",
    "    with open(pickle_file, \"wb\") as file:\n",
    "        pickle.dump(data, file)\n",
    "\n",
    "    print(f\"{variable} data loaded onto {pickle_file}\")"
   ]
  },
  {
   "cell_type": "code",
   "execution_count": 97,
   "metadata": {},
   "outputs": [
    {
     "name": "stderr",
     "output_type": "stream",
     "text": [
      "INFO - 2024-12-10T08:22:42Z - Dataset version was not specified, the latest one was selected: \"202311\"\n",
      "INFO - 2024-12-10T08:22:42Z - Dataset part was not specified, the first one was selected: \"default\"\n",
      "INFO - 2024-12-10T08:22:43Z - Service was not specified, the default one was selected: \"arco-geo-series\"\n"
     ]
    }
   ],
   "source": [
    "dataset1 = copernicusmarine.open_dataset(\n",
    "    dataset_id=\"cmems_mod_glo_phy-all_my_0.25deg_P1M-m\",\n",
    "    username=\"sjohnson3\",\n",
    "    password=\"Soccerisawsome88**\",\n",
    ")"
   ]
  },
  {
   "cell_type": "code",
   "execution_count": 120,
   "metadata": {},
   "outputs": [],
   "source": [
    "oceanography_data = {area: {} for area in area_coords.keys()}\n",
    "\n",
    "with open(\"oceanography_data.pkl\", \"wb\") as file:\n",
    "    pickle.dump(oceanography_data, file)"
   ]
  },
  {
   "cell_type": "code",
   "execution_count": 99,
   "metadata": {},
   "outputs": [
    {
     "name": "stdout",
     "output_type": "stream",
     "text": [
      "Loading data for thetao_cglo\n",
      "Completed year 2004 for area 21\n",
      "Completed year 2004 for area 27\n",
      "Completed year 2004 for area 31\n",
      "Completed year 2004 for area 34\n",
      "Completed year 2004 for area 37\n",
      "Completed year 2004 for area 41\n",
      "Completed year 2004 for area 47\n",
      "Completed year 2004 for area 51\n",
      "Completed year 2004 for area 57\n",
      "Completed year 2004 for area 61\n",
      "Completed year 2004 for area 67\n",
      "Completed year 2004 for area 71\n",
      "Completed year 2004 for area 77\n",
      "Completed year 2004 for area 81\n",
      "Completed year 2004 for area 87\n",
      "thetao_cglo data loaded onto oceanography_data.pkl\n"
     ]
    }
   ],
   "source": [
    "build_data(dataset1, \"oceanography_data.pkl\", \"thetao_cglo\")"
   ]
  },
  {
   "cell_type": "code",
   "execution_count": 100,
   "metadata": {},
   "outputs": [],
   "source": [
    "with open(\"oceanography_data.pkl\", \"rb\") as file:\n",
    "    data = pickle.load(file)"
   ]
  },
  {
   "cell_type": "code",
   "execution_count": 118,
   "metadata": {},
   "outputs": [
    {
     "name": "stdout",
     "output_type": "stream",
     "text": [
      "         time  thetao_cglo\n",
      "0  2004-01-01    17.696514\n",
      "1  2004-02-01    17.808388\n",
      "2  2004-03-01    17.788788\n",
      "3  2004-04-01    17.766041\n",
      "4  2004-05-01    17.678808\n",
      "5  2004-06-01    17.754772\n",
      "6  2004-07-01    18.022060\n",
      "7  2004-08-01    18.230362\n",
      "8  2004-09-01    18.082628\n",
      "9  2004-10-01    17.779190\n",
      "10 2004-11-01    17.594946\n",
      "11 2004-12-01    17.601620\n"
     ]
    }
   ],
   "source": [
    "ex = data[21][\"thetao_cglo\"][2004]\n",
    "\n",
    "ave = ex.groupby(\"time\")[\"thetao_cglo\"].mean().reset_index()\n",
    "\n",
    "print(ave)"
   ]
  },
  {
   "cell_type": "code",
   "execution_count": 123,
   "metadata": {},
   "outputs": [],
   "source": [
    "def build_data2(dataset, pickle_file, variable, depth=0):\n",
    "    print(f\"Loading data for {variable}\")\n",
    "\n",
    "    with open(pickle_file, \"rb\") as file:\n",
    "        data = pickle.load(file)\n",
    "\n",
    "    for key in area_coords.keys():\n",
    "        data[key][variable] = data_template\n",
    "\n",
    "    for area, coords in area_coords.items():\n",
    "        for year, year_slice in years.items():\n",
    "            for lat, long in zip(coords[\"lat\"], coords[\"long\"]):\n",
    "                if depth is not None:\n",
    "                    subset = (\n",
    "                        dataset[[variable]]\n",
    "                        .isel(depth=depth)\n",
    "                        .sel(latitude=lat, longitude=long, time=year_slice)\n",
    "                    )\n",
    "                else:\n",
    "                    subset = dataset[[variable]].sel(\n",
    "                        latitude=lat, longitude=long, time=year_slice\n",
    "                    )\n",
    "                data[area][variable][year] = pd.concat(\n",
    "                    [\n",
    "                        data[area][variable][year],\n",
    "                        subset[variable].to_dataframe().dropna(),\n",
    "                    ]\n",
    "                )\n",
    "\n",
    "            data[area][variable][year] = data[area][variable][year].groupby(\"time\")[variable].mean().reset_index()\n",
    "            print(f\"Completed year {year} for area {area}\")\n",
    "\n",
    "    with open(pickle_file, \"wb\") as file:\n",
    "        pickle.dump(data, file)\n",
    "\n",
    "    print(f\"{variable} data loaded onto {pickle_file}\")"
   ]
  },
  {
   "cell_type": "code",
   "execution_count": 124,
   "metadata": {},
   "outputs": [
    {
     "name": "stdout",
     "output_type": "stream",
     "text": [
      "Loading data for thetao_cglo\n",
      "Completed year 2004 for area 21\n",
      "Completed year 2004 for area 27\n",
      "Completed year 2004 for area 31\n",
      "Completed year 2004 for area 34\n",
      "Completed year 2004 for area 37\n",
      "Completed year 2004 for area 41\n",
      "Completed year 2004 for area 47\n",
      "Completed year 2004 for area 51\n",
      "Completed year 2004 for area 57\n",
      "Completed year 2004 for area 61\n",
      "Completed year 2004 for area 67\n",
      "Completed year 2004 for area 71\n",
      "Completed year 2004 for area 77\n",
      "Completed year 2004 for area 81\n",
      "Completed year 2004 for area 87\n",
      "thetao_cglo data loaded onto oceanography_data.pkl\n"
     ]
    }
   ],
   "source": [
    "build_data2(dataset1, \"oceanography_data.pkl\", \"thetao_cglo\")"
   ]
  },
  {
   "cell_type": "code",
   "execution_count": 140,
   "metadata": {},
   "outputs": [],
   "source": [
    "with open(\"oceanography_data.pkl\", \"rb\") as file:\n",
    "    data = pickle.load(file)"
   ]
  },
  {
   "cell_type": "code",
   "execution_count": 141,
   "metadata": {},
   "outputs": [
    {
     "name": "stdout",
     "output_type": "stream",
     "text": [
      "{21: {'thetao_mean': {2004:          time  thetao_mean\n",
      "0  2004-01-01     3.592387\n",
      "1  2004-02-01     3.370120\n",
      "2  2004-03-01     3.312194\n",
      "3  2004-04-01     3.551373\n",
      "4  2004-05-01     4.169974\n",
      "5  2004-06-01     5.360918\n",
      "6  2004-07-01     6.843750\n",
      "7  2004-08-01     7.654229\n",
      "8  2004-09-01     7.060114\n",
      "9  2004-10-01     5.809432\n",
      "10 2004-11-01     4.745907\n",
      "11 2004-12-01     4.114413}, 'so_mean': {2004:          time    so_mean\n",
      "0  2004-01-01  33.743935\n",
      "1  2004-02-01  33.834263\n",
      "2  2004-03-01  33.880486\n",
      "3  2004-04-01  33.901989\n",
      "4  2004-05-01  33.806297\n",
      "5  2004-06-01  33.345737\n",
      "6  2004-07-01  32.673450\n",
      "7  2004-08-01  32.734409\n",
      "8  2004-09-01  33.052258\n",
      "9  2004-10-01  33.281876\n",
      "10 2004-11-01  33.518410\n",
      "11 2004-12-01  33.703823}}, 27: {'thetao_mean': {2004:          time  thetao_mean\n",
      "0  2004-01-01     3.592387\n",
      "1  2004-02-01     3.370120\n",
      "2  2004-03-01     3.312194\n",
      "3  2004-04-01     3.551373\n",
      "4  2004-05-01     4.169974\n",
      "5  2004-06-01     5.360918\n",
      "6  2004-07-01     6.843750\n",
      "7  2004-08-01     7.654229\n",
      "8  2004-09-01     7.060114\n",
      "9  2004-10-01     5.809432\n",
      "10 2004-11-01     4.745907\n",
      "11 2004-12-01     4.114413}, 'so_mean': {2004:          time    so_mean\n",
      "0  2004-01-01  33.743935\n",
      "1  2004-02-01  33.834263\n",
      "2  2004-03-01  33.880486\n",
      "3  2004-04-01  33.901989\n",
      "4  2004-05-01  33.806297\n",
      "5  2004-06-01  33.345737\n",
      "6  2004-07-01  32.673450\n",
      "7  2004-08-01  32.734409\n",
      "8  2004-09-01  33.052258\n",
      "9  2004-10-01  33.281876\n",
      "10 2004-11-01  33.518410\n",
      "11 2004-12-01  33.703823}}}\n"
     ]
    }
   ],
   "source": [
    "print(data)"
   ]
  },
  {
   "cell_type": "code",
   "execution_count": 3,
   "metadata": {},
   "outputs": [],
   "source": [
    "with open(\"oceanography_data.pkl\", \"rb\") as file:\n",
    "    oceanography_data = pickle.load(file)"
   ]
  },
  {
   "cell_type": "code",
   "execution_count": 5,
   "metadata": {},
   "outputs": [
    {
     "name": "stdout",
     "output_type": "stream",
     "text": [
      "dict_keys([21, 27, 31, 34, 37, 41, 47, 51, 57, 61, 67, 71, 77, 81, 87])\n"
     ]
    }
   ],
   "source": []
  }
 ],
 "metadata": {
  "kernelspec": {
   "display_name": "Python 3",
   "language": "python",
   "name": "python3"
  },
  "language_info": {
   "codemirror_mode": {
    "name": "ipython",
    "version": 3
   },
   "file_extension": ".py",
   "mimetype": "text/x-python",
   "name": "python",
   "nbconvert_exporter": "python",
   "pygments_lexer": "ipython3",
   "version": "3.12.2"
  }
 },
 "nbformat": 4,
 "nbformat_minor": 2
}
