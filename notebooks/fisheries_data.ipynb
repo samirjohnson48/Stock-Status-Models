{
 "cells": [
  {
   "cell_type": "code",
   "execution_count": 2,
   "metadata": {},
   "outputs": [],
   "source": [
    "import pandas as pd\n",
    "import os\n",
    "import matplotlib.pyplot as plt\n",
    "import numpy as np\n",
    "import pickle"
   ]
  },
  {
   "cell_type": "code",
   "execution_count": 4,
   "metadata": {},
   "outputs": [],
   "source": [
    "file_path = os.path.dirname(os.getcwd()) + \"/raw_data/\"\n",
    "\n",
    "effort_data = pd.read_excel(file_path + \"FAOEffortBOB.xlsx\", sheet_name=\"MappedFAO\")\n",
    "capture_data = pd.read_csv(file_path + \"Capture_quantity.csv\")\n",
    "country_codes = pd.read_csv(file_path + \"Country_codes.csv\")\n",
    "isscaap_codes = pd.read_csv(file_path + \"ASFIS_sp_2024.csv\")\n",
    "isscaap_codes = isscaap_codes.rename(\n",
    "    columns={\"Alpha3_Code\": \"SPECIES.ALPHA_3_CODE\", \"ISSCAAP_GROUP \": \"ISSCAAP_GROUP\"}\n",
    ")\n",
    "\n",
    "un_to_iso3 = dict(zip(country_codes[\"UN\"], country_codes[\"ISO3\"]))\n",
    "capture_data[\"COUNTRY.UN_CODE\"] = capture_data[\"COUNTRY.UN_CODE\"].map(un_to_iso3)\n",
    "capture_data.rename(columns={\"COUNTRY.UN_CODE\": \"ISO3\", \"PERIOD\": \"Year\"}, inplace=True)"
   ]
  },
  {
   "cell_type": "code",
   "execution_count": 27,
   "metadata": {},
   "outputs": [],
   "source": [
    "capture_data2 = pd.read_csv(file_path + \"global_capture_production.csv\")\n",
    "stocks_data = pd.read_csv(file_path + \"2021_stocks.csv\").dropna()\n",
    "stocks_data = stocks_data[[\"Area\", \"ASFIS Name\", \"Location\", \"Status\"]].drop_duplicates()"
   ]
  },
  {
   "cell_type": "code",
   "execution_count": 20,
   "metadata": {},
   "outputs": [
    {
     "name": "stdout",
     "output_type": "stream",
     "text": [
      "28498\n",
      "28498\n"
     ]
    }
   ],
   "source": [
    "print(len(capture_data2))\n",
    "print(len(capture_data2[[\"Country (Name)\", \"ASFIS species (Name)\", \"FAO major fishing area (Name)\"]].drop_duplicates()))"
   ]
  },
  {
   "cell_type": "code",
   "execution_count": 29,
   "metadata": {},
   "outputs": [
    {
     "name": "stdout",
     "output_type": "stream",
     "text": [
      "1864\n",
      "1812\n",
      "      Area                ASFIS Name  \\\n",
      "231     27               Salmo salar   \n",
      "291     27       Nephrops norvegicus   \n",
      "292     27       Nephrops norvegicus   \n",
      "380     31           Panulirus argus   \n",
      "381     31           Panulirus argus   \n",
      "437     34           Cynoglossus spp   \n",
      "442     34    Brachydeuterus auritus   \n",
      "457     34    Galeoides decadactylus   \n",
      "480     34        Pseudotolithus spp   \n",
      "508     34              Aristeus spp   \n",
      "509     34              Aristeus spp   \n",
      "566     41          Cynoscion acoupa   \n",
      "572     41        Macrodon ancylodon   \n",
      "599     41       Prionotus punctatus   \n",
      "611     41      Xiphopenaeus kroyeri   \n",
      "737     51             Istiophoridae   \n",
      "813     51                Carangidae   \n",
      "817     51                Carangidae   \n",
      "851     51           Epinephelus spp   \n",
      "1067    51          Scomberoides spp   \n",
      "1128    51             Panulirus spp   \n",
      "1151    51               Penaeus spp   \n",
      "1175    51               Cephalopoda   \n",
      "1511    61           Clupea pallasii   \n",
      "1513    61       Engraulis japonicus   \n",
      "1514    61       Engraulis japonicus   \n",
      "1519    61   Sardinops melanostictus   \n",
      "1527    61       Gadus chalcogrammus   \n",
      "1530    61       Gadus chalcogrammus   \n",
      "1533    61       Gadus chalcogrammus   \n",
      "1535    61       Gadus macrocephalus   \n",
      "1539    61       Gadus macrocephalus   \n",
      "1541    61       Gadus macrocephalus   \n",
      "1548    61    Paralichthys olivaceus   \n",
      "1549    61    Paralichthys olivaceus   \n",
      "1562    61              Pagrus major   \n",
      "1566    61         Takifugu rubripes   \n",
      "1581    61       Trachurus japonicus   \n",
      "1643    67         Sebastes caurinus   \n",
      "1650    67       Sebastes polyspinis   \n",
      "1652    67           Sebastes alutus   \n",
      "1661    67         Sebastes miniatus   \n",
      "1679    67    Lepidopsetta bilineata   \n",
      "1702    67  Oncorhynchus tshawytscha   \n",
      "1709    67        Oncorhynchus nerka   \n",
      "1719    67  Oncorhynchus tshawytscha   \n",
      "1720    67  Oncorhynchus tshawytscha   \n",
      "1738    67      Oncorhynchus kisutch   \n",
      "1742    67      Oncorhynchus kisutch   \n",
      "2037    77           Sardinops sagax   \n",
      "2059    77                 Gerreidae   \n",
      "2100    77          Penaeus vannamei   \n",
      "\n",
      "                                               Location Status  \n",
      "231      Southern North-East Atlantic Commission Salmon      M  \n",
      "291   Atlantic Iberian waters East, western Galicia,...      U  \n",
      "292      in southern Bay of Biscay and northern Galicia      M  \n",
      "380                             Western Caribbean stock      O  \n",
      "381                            Northern Caribbean stock      U  \n",
      "437                                               South      O  \n",
      "442                                               South      U  \n",
      "457                                               South      O  \n",
      "480                                               South      O  \n",
      "508                                               South      O  \n",
      "509                                               South      M  \n",
      "566                                              Brazil      M  \n",
      "572                                              Brazil      O  \n",
      "599                                              Brazil      O  \n",
      "611                                              Brazil      M  \n",
      "737                                             Area 51      O  \n",
      "813                                   India Maharashtra      O  \n",
      "817                                        India Kerala      O  \n",
      "851                                             Area 51      M  \n",
      "1067                                            Area 51      M  \n",
      "1128                                            Area 51      M  \n",
      "1151                                              Kenya      O  \n",
      "1175                                       India Kerala      U  \n",
      "1511                                             Russia      U  \n",
      "1513                                              Japan      U  \n",
      "1514                                              Japan      O  \n",
      "1519                                              Japan      O  \n",
      "1527                                              Japan      O  \n",
      "1530                                             Russia      U  \n",
      "1533                                             Russia      O  \n",
      "1535                                              Japan      U  \n",
      "1539                                             Russia      U  \n",
      "1541                                             Russia      O  \n",
      "1548                                              Japan      U  \n",
      "1549                                              Japan      O  \n",
      "1562                                              Japan      O  \n",
      "1566                                              Japan      O  \n",
      "1581                                              Japan      O  \n",
      "1643                                                USA      U  \n",
      "1650                                                USA      M  \n",
      "1652                                                USA      U  \n",
      "1661                                                USA      U  \n",
      "1679                                                USA      U  \n",
      "1702                                             Canada      M  \n",
      "1709                                             Canada      M  \n",
      "1719                                                USA      M  \n",
      "1720                                                USA      O  \n",
      "1738                                                USA      U  \n",
      "1742                                                USA      O  \n",
      "2037                   United States of America, Mexico      U  \n",
      "2059                                             Mexico      M  \n",
      "2100                                          Guatemala      M  \n"
     ]
    }
   ],
   "source": [
    "print(len(stocks_data))\n",
    "print(len(stocks_data[[\"Area\", \"ASFIS Name\", \"Location\"]].drop_duplicates()))\n",
    "stock_data_dup = stocks_data[stocks_data[[\"Area\", \"ASFIS Name\", \"Location\"]].duplicated()]\n",
    "print(stock_data_dup)"
   ]
  },
  {
   "cell_type": "code",
   "execution_count": 54,
   "metadata": {},
   "outputs": [
    {
     "name": "stdout",
     "output_type": "stream",
     "text": [
      "       ISO3 SPECIES.ALPHA_3_CODE  AREA.CODE MEASURE  Year  VALUE STATUS  \\\n",
      "0       ALB                  FCP          5   Q_tlw  2015  480.0      A   \n",
      "1       ALB                  FCP          5   Q_tlw  2014  434.0      A   \n",
      "2       ALB                  FCP          5   Q_tlw  2013  418.0      A   \n",
      "3       ALB                  FCP          5   Q_tlw  2012  398.0      A   \n",
      "4       ALB                  FCP          5   Q_tlw  2011  450.0      A   \n",
      "...     ...                  ...        ...     ...   ...    ...    ...   \n",
      "811074  VNM                  CDS          4  Q_no_1  1974    0.0      A   \n",
      "811075  VNM                  CDS          4  Q_no_1  1973    0.0      A   \n",
      "811076  VNM                  CDS          4  Q_no_1  1972    0.0      A   \n",
      "811077  VNM                  CDS          4  Q_no_1  1971    0.0      A   \n",
      "811078  VNM                  CDS          4  Q_no_1  1970    0.0      A   \n",
      "\n",
      "        EffortCellReportedNom  EffortCellReportedEff  EffortCellIUUNom  \\\n",
      "0                1.796628e+07           9.776515e+07      51702.562512   \n",
      "1                1.812753e+07           9.614288e+07      68062.097138   \n",
      "2                1.807940e+07           9.345768e+07      61412.932079   \n",
      "3                1.809730e+07           9.117954e+07      94978.577811   \n",
      "4                1.716743e+07           8.430276e+07      90556.792410   \n",
      "...                       ...                    ...               ...   \n",
      "811074           1.022049e+08           1.941582e+08      69258.648301   \n",
      "811075           1.004371e+08           1.859649e+08      67917.118351   \n",
      "811076           9.820814e+07           1.772298e+08      66870.980762   \n",
      "811077           9.568279e+07           1.682968e+08      65074.263900   \n",
      "811078           9.336233e+07           1.600539e+08      63424.598524   \n",
      "\n",
      "        EffortCellIUUEff      CPUE  ISSCAAP_Group        Scientific_Name  \n",
      "0          281344.143715  0.000005            11.0       Cyprinus carpio  \n",
      "1          360980.528905  0.000005            11.0       Cyprinus carpio  \n",
      "2          317461.396484  0.000004            11.0       Cyprinus carpio  \n",
      "3          478530.243932  0.000004            11.0       Cyprinus carpio  \n",
      "4          444690.036705  0.000005            11.0       Cyprinus carpio  \n",
      "...                  ...       ...             ...                   ...  \n",
      "811074     131570.350216  0.000000            73.0  Crocodylus siamensis  \n",
      "811075     125752.292064  0.000000            73.0  Crocodylus siamensis  \n",
      "811076     120677.690639  0.000000            73.0  Crocodylus siamensis  \n",
      "811077     114459.330495  0.000000            73.0  Crocodylus siamensis  \n",
      "811078     108730.729824  0.000000            73.0  Crocodylus siamensis  \n",
      "\n",
      "[811079 rows x 14 columns]\n"
     ]
    }
   ],
   "source": [
    "effort_data = (\n",
    "    effort_data.groupby([\"Year\", \"ISO3\"])[\n",
    "        [\n",
    "            \"EffortCellReportedNom\",\n",
    "            \"EffortCellReportedEff\",\n",
    "            \"EffortCellIUUNom\",\n",
    "            \"EffortCellIUUEff\",\n",
    "        ]\n",
    "    ]\n",
    "    .sum()\n",
    "    .reset_index()\n",
    ")\n",
    "\n",
    "CE_data = pd.merge(\n",
    "    capture_data,\n",
    "    effort_data,\n",
    "    on=[\"ISO3\", \"Year\"],\n",
    "    how=\"inner\",\n",
    ")\n",
    "\n",
    "CE_data = CE_data.dropna()\n",
    "CE_data[\"CPUE\"] = CE_data[\"VALUE\"] / CE_data[\"EffortCellReportedEff\"]\n",
    "\n",
    "CE_data = pd.merge(CE_data, isscaap_codes[[\"ISSCAAP_Group \", \"SPECIES.ALPHA_3_CODE\", \"Scientific_Name\"]], how=\"inner\")\n",
    "\n",
    "print(CE_data)\n"
   ]
  },
  {
   "cell_type": "code",
   "execution_count": 50,
   "metadata": {},
   "outputs": [
    {
     "name": "stderr",
     "output_type": "stream",
     "text": [
      "/var/folders/3h/wffpfgs16x35fp5xl_dt66mm0000gn/T/ipykernel_79404/3222931897.py:3: UserWarning: Boolean Series key will be reindexed to match DataFrame index.\n",
      "  example = CE_21[CE_21[\"Scientific_Name\"] == \"Clupea harengus\"][CE_21[\"ISO3\"] == 'USA']\n"
     ]
    },
    {
     "data": {
      "image/png": "[encoded data removed]",
      "text/plain": [
       "<Figure size 640x480 with 1 Axes>"
      ]
     },
     "metadata": {},
     "output_type": "display_data"
    }
   ],
   "source": [
    "CE_21 = CE_data[CE_data[\"AREA.CODE\"] == 21]\n",
    "\n",
    "example = CE_21[CE_21[\"Scientific_Name\"] == \"Clupea harengus\"][CE_21[\"ISO3\"] == 'USA']\n",
    "\n",
    "plt.plot(example[\"Year\"], example[\"VALUE\"])\n",
    "plt.show()"
   ]
  },
  {
   "cell_type": "code",
   "execution_count": 55,
   "metadata": {},
   "outputs": [],
   "source": [
    "CE_grouped = [\n",
    "    group.reset_index().dropna()\n",
    "    for _, group in CE_data.groupby([\"ISO3\", \"SPECIES.ALPHA_3_CODE\"])\n",
    "]"
   ]
  },
  {
   "cell_type": "code",
   "execution_count": 67,
   "metadata": {},
   "outputs": [
    {
     "name": "stdout",
     "output_type": "stream",
     "text": [
      "13863\n"
     ]
    }
   ],
   "source": [
    "CE_reduced = [d.dropna() for d in CE_grouped if 2015 in list(d.dropna()[\"Year\"])]\n",
    "\n",
    "print(len(CE_reduced))"
   ]
  },
  {
   "cell_type": "code",
   "execution_count": 34,
   "metadata": {},
   "outputs": [],
   "source": [
    "global_capture_production = pd.read_csv(file_path + \"global_capture_production.csv\")\n",
    "\n",
    "asfis = pd.read_csv(file_path + \"ASFIS_sp_2024.csv\")[[\"Scientific_Name\", \"English_name\"]].set_index(\"English_name\")[\"Scientific_Name\"].to_dict()"
   ]
  },
  {
   "cell_type": "code",
   "execution_count": 35,
   "metadata": {},
   "outputs": [],
   "source": [
    "year_col_map = {f\"[{year}]\": year for year in range(1950, 2023)}\n",
    "global_capture_production = global_capture_production.rename(columns=year_col_map)\n",
    "global_capture_production = global_capture_production.rename(\n",
    "    columns={\n",
    "        \"Country (ISO3 code)\": \"Country\",\n",
    "        \"ASFIS species (3-alpha code)\": \"Species\",\n",
    "        \"FAO major fishing area (Code)\": \"Area\",\n",
    "    }\n",
    ")\n",
    "global_capture_production = global_capture_production[[\"Country\", \"Species\", \"Area\"] + list(range(1950,2023))]"
   ]
  },
  {
   "cell_type": "code",
   "execution_count": 37,
   "metadata": {},
   "outputs": [],
   "source": [
    "global_capture_production[\"Country\"] = global_capture_production[\"Country\"].replace(\"SUN\", \"RUS\")"
   ]
  },
  {
   "cell_type": "code",
   "execution_count": 40,
   "metadata": {},
   "outputs": [],
   "source": [
    "with open(os.path.dirname(os.getcwd()) + \"/model_data/global_capture_production.pkl\", \"wb\") as file:\n",
    "    pickle.dump(global_capture_production, file)"
   ]
  },
  {
   "cell_type": "code",
   "execution_count": 174,
   "metadata": {},
   "outputs": [
    {
     "name": "stdout",
     "output_type": "stream",
     "text": [
      "        ISO3 SPECIES.ALPHA_3_CODE\n",
      "0        AFG                  FRF\n",
      "73       ALB                  FCP\n",
      "122      ALB                  ALR\n",
      "150      ALB                  FCC\n",
      "196      ALB                  FRX\n",
      "...      ...                  ...\n",
      "1049551  URY                  SEL\n",
      "1049620  VEN                  CAI\n",
      "1049655  VNM                  CDS\n",
      "1049708  ZMB                  CRI\n",
      "1049744  ZWE                  CRI\n",
      "\n",
      "[19764 rows x 2 columns]\n",
      "        ISO3 SPECIES.ALPHA_3_CODE     VALUE\n",
      "1        AFG                  FRF    1800.0\n",
      "74       ALB                  FCP     654.0\n",
      "123      ALB                  ALR     133.0\n",
      "151      ALB                  FCC     930.0\n",
      "197      ALB                  FRX     614.0\n",
      "...      ...                  ...       ...\n",
      "1049444  USA                  AGM  411921.0\n",
      "1049620  VEN                  CAI    3788.0\n",
      "1049656  VNM                  CDS   16292.0\n",
      "1049709  ZMB                  CRI   13115.0\n",
      "1049745  ZWE                  CRI   87460.0\n",
      "\n",
      "[19653 rows x 3 columns]\n",
      "18677\n"
     ]
    },
    {
     "name": "stderr",
     "output_type": "stream",
     "text": [
      "/var/folders/3h/wffpfgs16x35fp5xl_dt66mm0000gn/T/ipykernel_79404/1411351802.py:2: UserWarning: Boolean Series key will be reindexed to match DataFrame index.\n",
      "  num_ts = capture_data[[\"ISO3\", \"SPECIES.ALPHA_3_CODE\", \"VALUE\"]].dropna()[capture_data[\"Year\"] == 2021]\n"
     ]
    }
   ],
   "source": [
    "num_pairs = capture_data[[\"ISO3\", \"SPECIES.ALPHA_3_CODE\"]].dropna().drop_duplicates()\n",
    "num_ts = capture_data[[\"ISO3\", \"SPECIES.ALPHA_3_CODE\", \"VALUE\"]].dropna()[capture_data[\"Year\"] == 2021]\n",
    "\n",
    "print(num_pairs)\n",
    "print(num_ts)"
   ]
  },
  {
   "cell_type": "code",
   "execution_count": 173,
   "metadata": {},
   "outputs": [
    {
     "name": "stdout",
     "output_type": "stream",
     "text": [
      "15212\n"
     ]
    }
   ],
   "source": [
    "capture_grouped = capture_data.groupby([\"ISO3\", \"SPECIES.ALPHA_3_CODE\"])\n",
    "\n",
    "capture_ts = [group for _, group in capture_grouped if 2021 in list(group[\"Year\"])]"
   ]
  },
  {
   "cell_type": "code",
   "execution_count": 182,
   "metadata": {},
   "outputs": [],
   "source": [
    "years = range(1950, 2022)\n",
    "capture_ts_filled = []\n",
    "for group in capture_ts:\n",
    "    iso, species, area = group[[\"ISO3\", \"SPECIES.ALPHA_3_CODE\", \"AREA.CODE\"]].iloc[0]\n",
    "\n",
    "    group_filled = pd.DataFrame(\n",
    "        [(iso, species, area, year) for year in years],\n",
    "        columns=[\"ISO3\", \"SPECIES.ALPHA_3_CODE\", \"AREA.CODE\", \"Year\"],\n",
    "    )\n",
    "\n",
    "    group_filled = group_filled.merge(\n",
    "        group, on=[\"ISO3\", \"SPECIES.ALPHA_3_CODE\", \"AREA.CODE\", \"Year\"], how=\"left\"\n",
    "    )\n",
    "\n",
    "    group_filled[\"VALUE\"] = group_filled[\"VALUE\"].fillna(0)\n",
    "\n",
    "    group_filled = group_filled[[\"ISO3\", \"SPECIES.ALPHA_3_CODE\", \"AREA.CODE\", \"Year\", \"VALUE\"]]\n",
    "\n",
    "    capture_ts_filled.append(group_filled)"
   ]
  },
  {
   "cell_type": "code",
   "execution_count": 188,
   "metadata": {},
   "outputs": [],
   "source": [
    "with open(\"capture_ts.pkl\", \"wb\") as file:\n",
    "    pickle.dump(capture_ts_filled, file)"
   ]
  },
  {
   "cell_type": "code",
   "execution_count": 193,
   "metadata": {},
   "outputs": [],
   "source": [
    "countries = global_capture_production[\"Country (Name)\"].drop_duplicates()\n",
    "countries.drop(countries.tail(3).index, inplace=True)\n",
    "\n",
    "with open(\"countries_list.pkl\", \"wb\") as file:\n",
    "    pickle.dump(countries, file)"
   ]
  },
  {
   "cell_type": "code",
   "execution_count": 74,
   "metadata": {},
   "outputs": [],
   "source": [
    "area_to_country = (\n",
    "    global_capture_production[[\"Country (Name)\", \"FAO major fishing area (Name)\"]]\n",
    "    .groupby(\"FAO major fishing area (Name)\")[\"Country (Name)\"]\n",
    "    .apply(lambda x: list(set(x)))\n",
    "    .reset_index()\n",
    "    .rename(\n",
    "        columns={\"Country (Name)\": \"Countries\", \"FAO major fishing area (Name)\": \"Area\"}\n",
    "    )\n",
    ")"
   ]
  },
  {
   "cell_type": "code",
   "execution_count": 89,
   "metadata": {},
   "outputs": [
    {
     "name": "stdout",
     "output_type": "stream",
     "text": [
      "    Area                                          Countries\n",
      "0     21  [Republic of Korea, Latvia, Lithuania, Greenla...\n",
      "1     27  [Republic of Korea, Morocco, Latvia, Lithuania...\n",
      "2     31  [Republic of Korea, Haiti, Jamaica, Lithuania,...\n",
      "3     34  [Republic of Korea, Argentina, Morocco, Latvia...\n",
      "4     37  [Republic of Korea, Morocco, Türkiye, Japan, G...\n",
      "5     41  [Republic of Korea, Argentina, Latvia, Lithuan...\n",
      "6     47  [Republic of Korea, Latvia, Lithuania, Japan, ...\n",
      "7     51  [Republic of Korea, Sri Lanka, Djibouti, Lithu...\n",
      "8     57  [Bangladesh, Republic of Korea, Sri Lanka, Jap...\n",
      "9     61  [China, Macao SAR, Russian Federation, Republi...\n",
      "10    67  [Bulgaria, Russian Federation, Republic of Kor...\n",
      "11    71  [Republic of Korea, Guam, Viet Nam, Japan, Wal...\n",
      "12    77  [Republic of Korea, Lithuania, Japan, Nicaragu...\n",
      "13    81  [Republic of Korea, Latvia, Lithuania, Japan, ...\n",
      "14    87  [Republic of Korea, Argentina, Latvia, Lithuan...\n"
     ]
    },
    {
     "name": "stderr",
     "output_type": "stream",
     "text": [
      "/var/folders/3h/wffpfgs16x35fp5xl_dt66mm0000gn/T/ipykernel_79404/1766291578.py:21: SettingWithCopyWarning: \n",
      "A value is trying to be set on a copy of a slice from a DataFrame.\n",
      "Try using .loc[row_indexer,col_indexer] = value instead\n",
      "\n",
      "See the caveats in the documentation: https://pandas.pydata.org/pandas-docs/stable/user_guide/indexing.html#returning-a-view-versus-a-copy\n",
      "  filtered_areas[\"Area\"] = filtered_areas[\"Area\"].map(area_codes)\n"
     ]
    }
   ],
   "source": [
    "area_codes = {\n",
    "    \"Atlantic, Northwest\": 21,\n",
    "    \"Atlantic, Northeast\": 27,\n",
    "    \"Atlantic, Western Central\": 31,\n",
    "    \"Atlantic, Eastern Central\": 34,\n",
    "    \"Mediterranean and Black Sea\": 37,\n",
    "    \"Atlantic, Southwest\": 41,\n",
    "    \"Atlantic, Southeast\": 47,\n",
    "    \"Indian Ocean, Western\": 51,\n",
    "    \"Indian Ocean, Eastern\": 57,\n",
    "    \"Pacific, Northwest\": 61,\n",
    "    \"Pacific, Northeast\": 67,\n",
    "    \"Pacific, Western Central\": 71,\n",
    "    \"Pacific, Eastern Central\": 77,\n",
    "    \"Pacific, Southwest\": 81,\n",
    "    \"Pacific, Southeast\": 87,\n",
    "}\n",
    "\n",
    "filtered_areas = area_to_country[area_to_country[\"Area\"].isin(area_codes.keys())]\n",
    "\n",
    "filtered_areas[\"Area\"] = filtered_areas[\"Area\"].map(area_codes)\n",
    "\n",
    "filtered_areas = filtered_areas.sort_values(\"Area\").reset_index(drop=True)\n",
    "\n",
    "print(filtered_areas)"
   ]
  },
  {
   "cell_type": "code",
   "execution_count": 91,
   "metadata": {},
   "outputs": [],
   "source": [
    "import pickle\n",
    "\n",
    "with open(\"area_to_country.pkl\", \"wb\") as file:\n",
    "    pickle.dump(filtered_areas, file)"
   ]
  },
  {
   "cell_type": "code",
   "execution_count": 146,
   "metadata": {},
   "outputs": [
    {
     "name": "stdout",
     "output_type": "stream",
     "text": [
      "                                                 Country  \\\n",
      "0                                            Afghanistan   \n",
      "1                                                Albania   \n",
      "2                                                Albania   \n",
      "3                                                Albania   \n",
      "4                                                Albania   \n",
      "...                                                  ...   \n",
      "28493                                           Zimbabwe   \n",
      "28494                                           Zimbabwe   \n",
      "28495                      Totals - Tonnes - live weight   \n",
      "28496                                    Totals - Number   \n",
      "28497  FAO. 2024. FishStat: Global capture production...   \n",
      "\n",
      "                      ASFIS species  Area           Unit (Name)         Unit  \\\n",
      "0             Freshwater fishes nei   NaN  Tonnes - live weight  TLW, Number   \n",
      "1      Angelsharks, sand devils nei   NaN  Tonnes - live weight  TLW, Number   \n",
      "2             Atlantic bluefin tuna   NaN  Tonnes - live weight  TLW, Number   \n",
      "3                   Atlantic bonito   NaN  Tonnes - live weight  TLW, Number   \n",
      "4                    Barracudas nei   NaN  Tonnes - live weight  TLW, Number   \n",
      "...                             ...   ...                   ...          ...   \n",
      "28493                  Tilapias nei   NaN  Tonnes - live weight  TLW, Number   \n",
      "28494            Yellow-belly bream   NaN  Tonnes - live weight  TLW, Number   \n",
      "28495                           NaN   NaN                   NaN          NaN   \n",
      "28496                           NaN   NaN                   NaN          NaN   \n",
      "28497                           NaN   NaN                   NaN          NaN   \n",
      "\n",
      "           [1950]    S       [1951]  S.1      [1952]  ...       [2018]  S.68  \\\n",
      "0           100.0  NaN       100.00  NaN       100.0  ...      2050.00     I   \n",
      "1             0.0  ...         0.00  ...         0.0  ...         0.00   ...   \n",
      "2             0.0  NaN         0.00  NaN         0.0  ...       100.00   NaN   \n",
      "3             0.0  ...         0.00  ...         0.0  ...         7.00   NaN   \n",
      "4             0.0  ...         0.00  ...         0.0  ...         0.00   ...   \n",
      "...           ...  ...          ...  ...         ...  ...          ...   ...   \n",
      "28493         0.0  ...         0.00  ...         0.0  ...         0.00   NaN   \n",
      "28494         0.0  ...         0.00  ...         0.0  ...       160.00   NaN   \n",
      "28495  19244845.9  NaN  21695682.65  NaN  23656288.0  ...  97455296.74   NaN   \n",
      "28496    896541.0  NaN   1112912.00  NaN    833142.0  ...   1630812.00   NaN   \n",
      "28497         NaN  NaN          NaN  NaN         NaN  ...          NaN   NaN   \n",
      "\n",
      "            [2019]  S.69       [2020]  S.70       [2021]  S.71       [2022]  \\\n",
      "0          2100.00     I      2000.00     I      1800.00     I      2000.00   \n",
      "1             0.00   NaN         0.00   NaN         0.00   NaN         0.00   \n",
      "2           156.00   NaN       167.66   NaN       163.00   NaN       169.00   \n",
      "3            29.00   NaN        35.00   NaN        40.00   NaN        31.00   \n",
      "4             0.00   ...         0.00   ...         0.00   ...         0.00   \n",
      "...            ...   ...          ...   ...          ...   ...          ...   \n",
      "28493         0.00   NaN         0.00   NaN         0.00   NaN         0.00   \n",
      "28494       190.00   NaN       176.00   NaN       144.00   NaN       164.00   \n",
      "28495  93457468.71   NaN  90976104.47   NaN  92823175.05   NaN  92289568.36   \n",
      "28496   1622992.00   NaN   1102492.00   NaN   1243837.00   NaN   1397102.55   \n",
      "28497          NaN   NaN          NaN   NaN          NaN   NaN          NaN   \n",
      "\n",
      "       S.72  \n",
      "0         I  \n",
      "1       NaN  \n",
      "2       NaN  \n",
      "3       NaN  \n",
      "4       ...  \n",
      "...     ...  \n",
      "28493   NaN  \n",
      "28494   NaN  \n",
      "28495   NaN  \n",
      "28496   NaN  \n",
      "28497   NaN  \n",
      "\n",
      "[28498 rows x 151 columns]\n"
     ]
    }
   ],
   "source": [
    "global_capture_production = global_capture_production.rename(\n",
    "    columns={\n",
    "        \"Country (Name)\": \"Country\",\n",
    "        \"ASFIS species (Name)\": \"ASFIS species\",\n",
    "        \"FAO major fishing area (Name)\": \"Area\",\n",
    "    }\n",
    ")\n",
    "\n",
    "global_capture_production[\"Area\"] = global_capture_production[\"Area\"].map(area_codes)\n",
    "\n",
    "print(global_capture_production)"
   ]
  },
  {
   "cell_type": "code",
   "execution_count": 116,
   "metadata": {},
   "outputs": [],
   "source": [
    "data_2021 = []\n",
    "\n",
    "areas = [21, 27, 31, 34, 41, 47, 51, 57, 61, 67, 71, 77]\n",
    "\n",
    "for a in areas:\n",
    "    skip = 3 if a == 47 else 0\n",
    "    data_2021.append(pd.read_excel(file_path + \"area\" + str(a) + \".xlsx\", skiprows=skip))\n",
    "\n",
    "df_2021 = pd.DataFrame(columns=[\"ISSCAAP\", \"ASFIS\", \"Location\", \"Status\"])"
   ]
  },
  {
   "cell_type": "code",
   "execution_count": 125,
   "metadata": {},
   "outputs": [
    {
     "name": "stdout",
     "output_type": "stream",
     "text": [
      "Index(['Code', 'ISSCAAP Group (Name)', 'Stock - ASFIS name',\n",
      "       'ASFIS Scientific Name', 'Possible proxy', 'Location / season',\n",
      "       'Location', 'Fleet (industrial/SSF/both)', 'Tier', 'Year',\n",
      "       'In FishStat', 'Status', 'check ASFIS',\n",
      "       'Uncertainty (H,L,M) \\n see below', 'In previous', 'Biomass (B/Bmsy)',\n",
      "       '1950 Landings', 'Landings (tonnes) 2021', 'Landings in Area 1950',\n",
      "       '2021 Landings in Area', 'MSY level estimates (tonnes)', 'F level',\n",
      "       'Proxy landings in 1950', 'Proxy landings in 2021',\n",
      "       ' in FishStatJ Area historic > 0.0t',\n",
      "       'indicated in Map https://www.fao.org/fishery/en/area/21/en ',\n",
      "       'Changed ASFIS name', 'Not in FishStatJ'],\n",
      "      dtype='object')\n"
     ]
    }
   ],
   "source": [
    "area21 = pd.read_excel(file_path + \"area21.xlsx\")\n",
    "print(area21.columns)"
   ]
  },
  {
   "cell_type": "code",
   "execution_count": 139,
   "metadata": {},
   "outputs": [],
   "source": [
    "for area, a in zip(data_2021, areas):\n",
    "    loc = \"Country\"\n",
    "    sn = \"ASFIS Scientific Name\"\n",
    "    st = \"Assessment\"\n",
    "    cd = \"Code\"\n",
    "    if loc not in area.columns:\n",
    "        if \"Location\" in area.columns:\n",
    "            loc = \"Location\"\n",
    "        else:\n",
    "            loc = \"Location (Country? geographic region?)\"\n",
    "    if sn not in area.columns:\n",
    "        if \"Scientific name\" in area.columns:\n",
    "            sn = \"Scientific name\"\n",
    "        elif \"Scientific Name\" in area.columns:\n",
    "            sn = \"Scientific Name\"\n",
    "        elif \"Scientific name in Data\" in area.columns:\n",
    "            sn = \"Scientific name in Data\"\n",
    "        elif \"Scientific name ASFIS\" in area.columns:\n",
    "            sn = \"Scientific name ASFIS\"\n",
    "        elif \"Species\" in area.columns:\n",
    "            sn = \"Species\"\n",
    "        else:\n",
    "            sn = \"Species/ Group\"\n",
    "    if st not in area.columns:\n",
    "        if \"Status\" in area.columns:\n",
    "            st = \"Status\"\n",
    "        elif \"M\" in area.columns:\n",
    "            st = \"M\"\n",
    "        else:\n",
    "            st = \"Status (3 levels)\"\n",
    "    if cd not in area.columns:\n",
    "        if \"ISSCAAP Code\" in area.columns:\n",
    "            cd = \"ISSCAAP Code\"\n",
    "        elif \"Sp.group\" in area.columns:\n",
    "            cd = \"Sp.group\"\n",
    "        else:\n",
    "            cd = \"ISSCAAP Group Code\"\n",
    "    temp = area[[cd, sn, loc, st]]\n",
    "    temp = temp.rename(columns={cd: \"ISSCAAP\", sn: \"ASFIS\", loc: \"Location\", st: \"Status\"})\n",
    "    df_2021 = pd.concat([df_2021, temp])\n",
    "\n",
    "df_2021 = df_2021[[\"ISSCAAP\", \"ASFIS\", \"Location\", \"Status\"]]\n",
    "\n",
    "status_map = {\"O-M\": \"O/M\", \"?\": np.nan, \"u\": \"U\", \"M/O\": \"O/M\", \"o\": \"O\"}\n",
    "\n",
    "df_2021[\"Status\"] = df_2021[\"Status\"].map(status_map)"
   ]
  },
  {
   "cell_type": "code",
   "execution_count": 144,
   "metadata": {},
   "outputs": [
    {
     "name": "stdout",
     "output_type": "stream",
     "text": [
      "84     NaN\n",
      "107    NaN\n",
      "1      NaN\n",
      "6      NaN\n",
      "10     NaN\n",
      "      ... \n",
      "80     NaN\n",
      "81     NaN\n",
      "82     NaN\n",
      "83     NaN\n",
      "84     NaN\n",
      "Name: Status, Length: 2371, dtype: object\n"
     ]
    }
   ],
   "source": [
    "target_map = {\"O/M\": 0, \"U\": 1, \"M\": 1, \"O\": 0}\n",
    "\n",
    "df_2021[\"Target\"] = df_2021[\"Status\"].map(target_map)"
   ]
  }
 ],
 "metadata": {
  "kernelspec": {
   "display_name": "Python 3",
   "language": "python",
   "name": "python3"
  },
  "language_info": {
   "codemirror_mode": {
    "name": "ipython",
    "version": 3
   },
   "file_extension": ".py",
   "mimetype": "text/x-python",
   "name": "python",
   "nbconvert_exporter": "python",
   "pygments_lexer": "ipython3",
   "version": "3.undefined.undefined"
  }
 },
 "nbformat": 4,
 "nbformat_minor": 2
}
